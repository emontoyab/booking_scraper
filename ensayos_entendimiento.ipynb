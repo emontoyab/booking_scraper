{
 "cells": [
  {
   "cell_type": "code",
   "execution_count": 2,
   "metadata": {},
   "outputs": [
    {
     "name": "stdout",
     "output_type": "stream",
     "text": [
      "Requirement already satisfied: playwright in c:\\users\\dell\\appdata\\local\\packages\\pythonsoftwarefoundation.python.3.10_qbz5n2kfra8p0\\localcache\\local-packages\\python310\\site-packages (1.39.0)\n",
      "Requirement already satisfied: greenlet==3.0.0 in c:\\users\\dell\\appdata\\local\\packages\\pythonsoftwarefoundation.python.3.10_qbz5n2kfra8p0\\localcache\\local-packages\\python310\\site-packages (from playwright) (3.0.0)\n",
      "Requirement already satisfied: pyee==11.0.1 in c:\\users\\dell\\appdata\\local\\packages\\pythonsoftwarefoundation.python.3.10_qbz5n2kfra8p0\\localcache\\local-packages\\python310\\site-packages (from playwright) (11.0.1)\n",
      "Requirement already satisfied: typing-extensions in c:\\users\\dell\\appdata\\local\\packages\\pythonsoftwarefoundation.python.3.10_qbz5n2kfra8p0\\localcache\\local-packages\\python310\\site-packages (from pyee==11.0.1->playwright) (4.7.1)\n"
     ]
    },
    {
     "name": "stderr",
     "output_type": "stream",
     "text": [
      "\n",
      "[notice] A new release of pip is available: 23.2.1 -> 23.3.1\n",
      "[notice] To update, run: C:\\Users\\DELL\\AppData\\Local\\Microsoft\\WindowsApps\\PythonSoftwareFoundation.Python.3.10_qbz5n2kfra8p0\\python.exe -m pip install --upgrade pip\n"
     ]
    }
   ],
   "source": [
    "!pip install playwright"
   ]
  },
  {
   "cell_type": "code",
   "execution_count": 3,
   "metadata": {},
   "outputs": [],
   "source": [
    "from playwright.sync_api import sync_playwright\n",
    "import pandas as pd\n",
    "import os.path\n",
    "from datetime import date"
   ]
  },
  {
   "cell_type": "code",
   "execution_count": 4,
   "metadata": {},
   "outputs": [
    {
     "data": {
      "text/plain": [
       "datetime.date(2023, 11, 12)"
      ]
     },
     "execution_count": 4,
     "metadata": {},
     "output_type": "execute_result"
    }
   ],
   "source": [
    "today = date.today()\n",
    "today"
   ]
  },
  {
   "cell_type": "code",
   "execution_count": 5,
   "metadata": {},
   "outputs": [],
   "source": [
    "def municipios():\n",
    "    municipios = pd.read_csv(r\".\\municipios.csv\")\n",
    "    df = pd.DataFrame(municipios)\n",
    "    Lista = {col: df[col].dropna().tolist() for col in df.columns}\n",
    "    return Lista"
   ]
  },
  {
   "cell_type": "code",
   "execution_count": 6,
   "metadata": {},
   "outputs": [
    {
     "data": {
      "text/plain": [
       "{'Nombre Municipio': ['MEDELLIN',\n",
       "  'AMALFI ANTIOQUIA COLOMBIA',\n",
       "  'SANTAFE DE ANTIOQUIA',\n",
       "  'APARTADO',\n",
       "  'ARBOLETES',\n",
       "  'BARBOSA',\n",
       "  'BELLO ANTIOQUIA COLOMBIA',\n",
       "  'CALDAS',\n",
       "  'CAROLINA DEL PRINCIPE',\n",
       "  'CAUCASIA',\n",
       "  'CISNEROS ANTIOQUIA COLOMBIA',\n",
       "  'COCORNA',\n",
       "  'CONCEPCION ANTIOQUIA COLOMBIA',\n",
       "  'COPACABANA ANTIOQUIA COLOMBIA',\n",
       "  'ENVIGADO',\n",
       "  'FREDONIA ANTIOQUIA COLOMBIA',\n",
       "  'GIRARDOTA',\n",
       "  'GOMEZ PLATA',\n",
       "  'GUATAPE',\n",
       "  'ITAGUI',\n",
       "  'JARDIN ANTIOQUIA COLOMBIA',\n",
       "  'JERICÓ ANTIOQUIA COLOMBIA',\n",
       "  'LA CEJA',\n",
       "  'LA ESTRELLA',\n",
       "  'LA PINTADA',\n",
       "  'LIBORINA',\n",
       "  'MACEO',\n",
       "  'MARINILLA',\n",
       "  'NECOCLI',\n",
       "  'OLAYA',\n",
       "  'EL PEÑOL',\n",
       "  'PUERTO BERRIO',\n",
       "  'PUERTO TRIUNFO',\n",
       "  'RIONEGRO ANTIOQUIA COLOMBIA',\n",
       "  'SABANETA',\n",
       "  'SAN CARLOS ANTIOQUIA COLOMBIA',\n",
       "  'SAN JERONIMO',\n",
       "  'SAN JUAN DE URABA',\n",
       "  'SAN LUIS',\n",
       "  'SAN PEDRO',\n",
       "  'SAN RAFAEL ANTIOQUIA COLOMBIA',\n",
       "  'SAN ROQUE',\n",
       "  'SANTA ROSA DE OSOS',\n",
       "  'SOPETRAN',\n",
       "  'TURBO',\n",
       "  'VALPARAISO ANTIOQUIA COLOMBIA',\n",
       "  'VENECIA ANTIOQUIA COLOMBIA',\n",
       "  'YOLOMBO']}"
      ]
     },
     "execution_count": 6,
     "metadata": {},
     "output_type": "execute_result"
    }
   ],
   "source": [
    "Lista = municipios()\n",
    "Lista"
   ]
  },
  {
   "cell_type": "code",
   "execution_count": 13,
   "metadata": {},
   "outputs": [
    {
     "name": "stdout",
     "output_type": "stream",
     "text": [
      "En la iteración 1, el municipio es MEDELLIN\n",
      "     Estas deberían ser las demás instrucciones\n",
      "En la iteración 2, el municipio es AMALFI ANTIOQUIA COLOMBIA\n",
      "     Estas deberían ser las demás instrucciones\n",
      "En la iteración 3, el municipio es SANTAFE DE ANTIOQUIA\n",
      "     Estas deberían ser las demás instrucciones\n",
      "En la iteración 4, el municipio es APARTADO\n",
      "     Estas deberían ser las demás instrucciones\n",
      "En la iteración 5, el municipio es ARBOLETES\n",
      "     Estas deberían ser las demás instrucciones\n",
      "En la iteración 6, el municipio es BARBOSA\n",
      "     Estas deberían ser las demás instrucciones\n",
      "En la iteración 7, el municipio es BELLO ANTIOQUIA COLOMBIA\n",
      "     Estas deberían ser las demás instrucciones\n",
      "En la iteración 8, el municipio es CALDAS\n",
      "     Estas deberían ser las demás instrucciones\n",
      "En la iteración 9, el municipio es CAROLINA DEL PRINCIPE\n",
      "     Estas deberían ser las demás instrucciones\n",
      "En la iteración 10, el municipio es CAUCASIA\n",
      "     Estas deberían ser las demás instrucciones\n",
      "En la iteración 11, el municipio es CISNEROS ANTIOQUIA COLOMBIA\n",
      "     Estas deberían ser las demás instrucciones\n",
      "En la iteración 12, el municipio es COCORNA\n",
      "     Estas deberían ser las demás instrucciones\n",
      "En la iteración 13, el municipio es CONCEPCION ANTIOQUIA COLOMBIA\n",
      "     Estas deberían ser las demás instrucciones\n",
      "En la iteración 14, el municipio es COPACABANA ANTIOQUIA COLOMBIA\n",
      "     Estas deberían ser las demás instrucciones\n",
      "En la iteración 15, el municipio es ENVIGADO\n",
      "     Estas deberían ser las demás instrucciones\n",
      "En la iteración 16, el municipio es FREDONIA ANTIOQUIA COLOMBIA\n",
      "     Estas deberían ser las demás instrucciones\n",
      "En la iteración 17, el municipio es GIRARDOTA\n",
      "     Estas deberían ser las demás instrucciones\n",
      "En la iteración 18, el municipio es GOMEZ PLATA\n",
      "     Estas deberían ser las demás instrucciones\n",
      "En la iteración 19, el municipio es GUATAPE\n",
      "     Estas deberían ser las demás instrucciones\n",
      "En la iteración 20, el municipio es ITAGUI\n",
      "     Estas deberían ser las demás instrucciones\n",
      "En la iteración 21, el municipio es JARDIN ANTIOQUIA COLOMBIA\n",
      "     Estas deberían ser las demás instrucciones\n",
      "En la iteración 22, el municipio es JERICÓ ANTIOQUIA COLOMBIA\n",
      "     Estas deberían ser las demás instrucciones\n",
      "En la iteración 23, el municipio es LA CEJA\n",
      "     Estas deberían ser las demás instrucciones\n",
      "En la iteración 24, el municipio es LA ESTRELLA\n",
      "     Estas deberían ser las demás instrucciones\n",
      "En la iteración 25, el municipio es LA PINTADA\n",
      "     Estas deberían ser las demás instrucciones\n",
      "En la iteración 26, el municipio es LIBORINA\n",
      "     Estas deberían ser las demás instrucciones\n",
      "En la iteración 27, el municipio es MACEO\n",
      "     Estas deberían ser las demás instrucciones\n",
      "En la iteración 28, el municipio es MARINILLA\n",
      "     Estas deberían ser las demás instrucciones\n",
      "En la iteración 29, el municipio es NECOCLI\n",
      "     Estas deberían ser las demás instrucciones\n",
      "En la iteración 30, el municipio es OLAYA\n",
      "     Estas deberían ser las demás instrucciones\n",
      "En la iteración 31, el municipio es EL PEÑOL\n",
      "     Estas deberían ser las demás instrucciones\n",
      "En la iteración 32, el municipio es PUERTO BERRIO\n",
      "     Estas deberían ser las demás instrucciones\n",
      "En la iteración 33, el municipio es PUERTO TRIUNFO\n",
      "     Estas deberían ser las demás instrucciones\n",
      "En la iteración 34, el municipio es RIONEGRO ANTIOQUIA COLOMBIA\n",
      "     Estas deberían ser las demás instrucciones\n",
      "En la iteración 35, el municipio es SABANETA\n",
      "     Estas deberían ser las demás instrucciones\n",
      "En la iteración 36, el municipio es SAN CARLOS ANTIOQUIA COLOMBIA\n",
      "     Estas deberían ser las demás instrucciones\n",
      "En la iteración 37, el municipio es SAN JERONIMO\n",
      "     Estas deberían ser las demás instrucciones\n",
      "En la iteración 38, el municipio es SAN JUAN DE URABA\n",
      "     Estas deberían ser las demás instrucciones\n",
      "En la iteración 39, el municipio es SAN LUIS\n",
      "     Estas deberían ser las demás instrucciones\n",
      "En la iteración 40, el municipio es SAN PEDRO\n",
      "     Estas deberían ser las demás instrucciones\n",
      "En la iteración 41, el municipio es SAN RAFAEL ANTIOQUIA COLOMBIA\n",
      "     Estas deberían ser las demás instrucciones\n",
      "En la iteración 42, el municipio es SAN ROQUE\n",
      "     Estas deberían ser las demás instrucciones\n",
      "En la iteración 43, el municipio es SANTA ROSA DE OSOS\n",
      "     Estas deberían ser las demás instrucciones\n",
      "En la iteración 44, el municipio es SOPETRAN\n",
      "     Estas deberían ser las demás instrucciones\n",
      "En la iteración 45, el municipio es TURBO\n",
      "     Estas deberían ser las demás instrucciones\n",
      "En la iteración 46, el municipio es VALPARAISO ANTIOQUIA COLOMBIA\n",
      "     Estas deberían ser las demás instrucciones\n",
      "En la iteración 47, el municipio es VENECIA ANTIOQUIA COLOMBIA\n",
      "     Estas deberían ser las demás instrucciones\n",
      "En la iteración 48, el municipio es YOLOMBO\n",
      "     Estas deberían ser las demás instrucciones\n"
     ]
    }
   ],
   "source": [
    "c = 1\n",
    "for i in Lista['Nombre Municipio']:\n",
    "    print(f\"En la iteración {c}, el municipio es {i}\")\n",
    "    print(\"     Estas deberían ser las demás instrucciones\")\n",
    "    c += 1"
   ]
  },
  {
   "cell_type": "markdown",
   "metadata": {},
   "source": [
    "# Ensayos de link"
   ]
  },
  {
   "cell_type": "markdown",
   "metadata": {},
   "source": [
    "Primero, se busca en booking con estos parámetros:\n",
    "\n",
    "Fredonia\n",
    "\n",
    "22nov-23 nov\n",
    "\n",
    "2 adultos, 1 habitación"
   ]
  },
  {
   "cell_type": "markdown",
   "metadata": {},
   "source": [
    "El primer link que sale es:\n",
    "\n",
    "```python\n",
    "\"\"\"\n",
    "https://www.booking.com/searchresults.es.html?ss=Fredonia%2C+Antioquia%2C+Colombia&ssne=Medell%C3%ADn&ssne_untouched=Medell%C3%ADn&label=es-co-booking-desktop-vjGZbEFOhRc3a9njxeT3IwS652829002024%3Apl%3Ata%3Ap1%3Ap2%3Aac%3Aap%3Aneg%3Afi%3Atikwd-65526620%3Alp20198%3Ali%3Adec%3Adm&aid=2311236&lang=es&sb=1&src_elem=sb&src=index&dest_id=6167553\n",
    "\n",
    "&dest_type=city&ac_position=0&ac_click_type=b&ac_langcode=es&ac_suggestion_list_length=3&search_selected=true\n",
    "\n",
    "&search_pageview_id=d10631e4e6870160&ac_meta=GhBkMTA2MzFlNGU2ODcwMTYwIAAoATICZXM6CGZyZWRvbmlhQABKAFAA&checkin=2023-11-22\n",
    "\n",
    "&checkout=2023-11-23&group_adults=2&no_rooms=1&group_children=0&sb_travel_purpose=leisure\n",
    "\n",
    "\"\"\"\n",
    "```"
   ]
  },
  {
   "cell_type": "markdown",
   "metadata": {},
   "source": [
    "Entendiendo el código:\n",
    "\n",
    "El enlace que proporcionaste es una URL de Booking.com, un sitio web de reservas de alojamientos y servicios relacionados con viajes. Vamos a desglosar la URL para entender sus partes:\n",
    "\n",
    "1. **https://www.booking.com/**: Este es el dominio principal de Booking.com, el sitio web en el que se realiza la búsqueda y las reservas.\n",
    "\n",
    "2. **searchresults.es.html?ss=Fredonia%2C+Antioquia%2C+Colombia**: Esta parte de la URL indica que estás viendo los resultados de búsqueda para la ubicación \"Fredonia, Antioquia, Colombia\" en Booking.com.\n",
    "\n",
    "3. **&ssne=Medell%C3%ADn&ssne_untouched=Medell%C3%ADn**: Estos parámetros especifican que estás buscando en una ubicación cercana a Medellín, ya que \"ssne\" generalmente se refiere a \"Search Nearby\" (búsqueda cercana).\n",
    "\n",
    "4. **&label=...**: Este parámetro contiene información adicional sobre la búsqueda, como el idioma de la interfaz y algunos detalles sobre la visualización de la página.\n",
    "\n",
    "5. **&aid=2311236**: Este parámetro es un identificador de afiliado, que indica la fuente de tráfico o afiliación que llevó al usuario a la página de Booking.com.\n",
    "\n",
    "6. **&lang=es**: Este parámetro establece el idioma de la página en español.\n",
    "\n",
    "7. **&sb=1**: Este parámetro probablemente esté relacionado con la presentación de los resultados de búsqueda.\n",
    "\n",
    "8. **&src_elem=sb&src=index**: Estos parámetros indican la fuente de la búsqueda (sb significa \"search box\" - cuadro de búsqueda) y que la búsqueda proviene de la página de inicio.\n",
    "\n",
    "9. **&dest_id=6167553&dest_type=city**: Estos parámetros especifican el destino de la búsqueda, que es la ciudad con el ID 6167553.\n",
    "\n",
    "10. **&ac_position=0&ac_click_type=b&ac_langcode=es&ac_suggestion_list_length=3&search_selected=true&search_pageview_id=...**: Estos parámetros están relacionados con la interfaz de usuario y el seguimiento de la interacción del usuario con la página.\n",
    "\n",
    "11. **&checkin=2023-11-22&checkout=2023-11-23&group_adults=2&no_rooms=1&group_children=0&sb_travel_purpose=leisure**: Estos parámetros indican la fecha de entrada, la fecha de salida, el número de adultos y niños, el número de habitaciones y el propósito del viaje (ocio).\n",
    "\n",
    "En resumen, esta URL contiene información detallada sobre la búsqueda de alojamientos en Fredonia, Antioquia, Colombia, con fechas específicas, número de personas y detalles relacionados con la interfaz y el seguimiento del usuario en Booking.com.\n"
   ]
  },
  {
   "cell_type": "markdown",
   "metadata": {},
   "source": [
    "El link se puede acortar (según chat gpt) de esta manera (para el ejemplo)\n",
    "\n",
    "```python\n",
    "\"\"\"\n",
    "https://www.booking.com/searchresults.es.html?ss=Fredonia%2C+Antioquia%2C+Colombia&checkin=2023-11-22\n",
    "\n",
    "&checkout=2023-11-23&group_adults=2&no_rooms=1&group_children=0\n",
    "\"\"\"\n",
    "\n",
    "\n",
    "```"
   ]
  },
  {
   "cell_type": "markdown",
   "metadata": {},
   "source": [
    "En el código original de python, se distribuye así:"
   ]
  },
  {
   "cell_type": "markdown",
   "metadata": {},
   "source": [
    "```python\n",
    "\n",
    "f'https://www.booking.com/searchresults.es.html?checkin={checkin_date}&checkout={checkout_date}&selected_currency=COP&ss={destination}&ssne={destination}&ssne_untouched={destination}&lang=es&sb=1&src_elem=sb&src=searchresults&dest_type=city&group_adults={adult}&no_rooms={room}&group_children={children}&sb_travel_purpose=leisure&offset={offset}'\n",
    "\n",
    "```"
   ]
  },
  {
   "cell_type": "markdown",
   "metadata": {},
   "source": [
    "Una modificación podría ser en destination, agregar \"Municipio%2C+Antioquia%2C+Colombia\", donde el valor de municipio estaría en el .CSV de entrada y quizás se podría simplificar el uso. Incluso sacar la lista de municipios de Antioquia tal cual de booking:\n",
    "\n",
    "Medellín\n",
    "Guatapé\n",
    "Rionegro\n",
    "Santa Fe de Antioquia\n",
    "Jardín\n",
    "Doradal\n",
    "Envigado\n",
    "Sabaneta\n",
    "Puerto Triunfo\n",
    "Jericó\n",
    "San Jerónimo\n",
    "Guarne\n",
    "Sopetrán\n",
    "San Rafael\n",
    "El Peñol\n",
    "Bello\n",
    "Apartadó\n",
    "Santa Elena\n",
    "Necoclí\n",
    "Itagüí\n",
    "Marinilla\n",
    "San Luis\n",
    "Cocorná\n",
    "San Carlos\n",
    "El Retiro\n"
   ]
  },
  {
   "cell_type": "markdown",
   "metadata": {},
   "source": [
    "Al hacer una **búsqueda flexible**, se modifica un parámetro en las fechas, que quedaría como se muestra a continuación\n",
    "\n",
    "\"https://www.booking.com/searchresults.es.html?checkin=2023-11-22&checkout=2023-11-23&selected_currency=COP&ss=Fredonia%2C+Antioquia%2C+Colombia&ssne=Fredonia&ssne_untouched=Fredonia&lang=es&sb=1&src_elem=sb&src=searchresults&dest_type=city&group_adults=2&no_rooms=1&group_children=0&sb_travel_purpose=leisure&ltfd=2%3A1%3A11-2023%3A1%3A1&offset=0\"\n",
    "\n",
    "es importante comparar esto y adaptarlo al link con variables"
   ]
  },
  {
   "cell_type": "markdown",
   "metadata": {},
   "source": [
    "El link anterior, al parecer no está bueno, el caso es que es importante agregar:\n",
    "\n",
    "checkin=2023-11-22&checkout=2023-11-23&ltfd=2%3A1%3A11-2023%3A1%3A1\n",
    "\n",
    "al final del checkout. También vale la pena intentar modificar el sitio por \n",
    "\n",
    "Fredonia%2C+Antioquia%2C+Colombia\n",
    "\n",
    "El valor ltfd=2%3A1%3A11-2023%3A1%3A1 corresponde, al menos en la primera parte a:\n",
    "\n",
    "\n",
    "```\n",
    "3: Representa el día de la semana en el que deseas iniciar tu estadía. En este caso, \"3\" corresponde al miércoles.\n",
    "\n",
    "%3A: Codificación de \"dos puntos\".\n",
    "\n",
    "2: Indica el número de noches que deseas hospedarte. En este ejemplo, \"2\" significa que estás buscando una estadía de 2 noches.\n",
    "\n",
    "%3A: Codificación de \"dos puntos\".\n",
    "\n",
    "11-2023: Representa el mes y el año en el formato MM-YYYY. En este caso, es noviembre de 2023.\n",
    "\n",
    "```"
   ]
  },
  {
   "cell_type": "code",
   "execution_count": null,
   "metadata": {},
   "outputs": [],
   "source": [
    "\n"
   ]
  },
  {
   "cell_type": "code",
   "execution_count": null,
   "metadata": {},
   "outputs": [],
   "source": []
  },
  {
   "cell_type": "code",
   "execution_count": 16,
   "metadata": {},
   "outputs": [
    {
     "name": "stdout",
     "output_type": "stream",
     "text": [
      "Estoesunprint\n"
     ]
    }
   ],
   "source": [
    "print(\"\"\"Esto\n",
    "es\n",
    "un\n",
    "print\"\"\".replace(\"\\n\", \"\"))"
   ]
  },
  {
   "cell_type": "code",
   "execution_count": 8,
   "metadata": {},
   "outputs": [],
   "source": [
    "lista = [offset for offset in range(0,200, 25)]"
   ]
  },
  {
   "cell_type": "code",
   "execution_count": 9,
   "metadata": {},
   "outputs": [
    {
     "data": {
      "text/plain": [
       "[0, 25, 50, 75, 100, 125, 150, 175]"
      ]
     },
     "execution_count": 9,
     "metadata": {},
     "output_type": "execute_result"
    }
   ],
   "source": [
    "lista"
   ]
  },
  {
   "cell_type": "code",
   "execution_count": 10,
   "metadata": {},
   "outputs": [
    {
     "data": {
      "text/plain": [
       "'__main__'"
      ]
     },
     "execution_count": 10,
     "metadata": {},
     "output_type": "execute_result"
    }
   ],
   "source": [
    "__name__"
   ]
  }
 ],
 "metadata": {
  "kernelspec": {
   "display_name": "Python 3",
   "language": "python",
   "name": "python3"
  },
  "language_info": {
   "codemirror_mode": {
    "name": "ipython",
    "version": 3
   },
   "file_extension": ".py",
   "mimetype": "text/x-python",
   "name": "python",
   "nbconvert_exporter": "python",
   "pygments_lexer": "ipython3",
   "version": "3.10.11"
  }
 },
 "nbformat": 4,
 "nbformat_minor": 2
}
